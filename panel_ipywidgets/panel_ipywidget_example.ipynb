{
 "cells": [
  {
   "cell_type": "markdown",
   "metadata": {},
   "source": [
    "# Working across Panel and ipywidgets ecosystems\n",
    "\n",
    "[Panel](https://panel.holoviz.org/index.html) is a open-source Python library that makes it easy to build interactive web apps and dashboards with flexible user-defined widgets.  The Panel library makes a broad range of widgets available.  However, did you know that you can also use widgets from [ipywidgets](https://ipywidgets.readthedocs.io/en/latest/) library with Panel seamlessly?\n",
    "\n",
    "## What are widgets?\n",
    "\n",
    "For our purposes, a widget is a component of a graphical user interface (GUI) that enables easy interaction with the application (e.g., a drop-down menu for selecting from a set of items or a slider for specifying a numeric value). Until recently, GUI authors had to choose between strictly using Panel or strictly using ipywidgets because each ecosystem had distinct widget patterns; fortunately, that is no longer the case. The union of these ecosystems opens up enormous possibilities for designing flexible GUIs (both in notebooks and in web applications)."
   ]
  },
  {
   "cell_type": "markdown",
   "metadata": {},
   "source": [
    "## Panel and ipywidgets demonstration.\n",
    "\n",
    "We'll show you an example in this notebook that uses widgets from ipywidgets within a Panel app.  We are going to modify an [example Panel app for exploring the `autompg` dataset](https://panel.holoviz.org/user_guide/APIs.html) (from the Panel website) by switching out the `panel.ColorPicker` widget with the `ipywidgets.ColorPicker` widget.  Just for fun, we'll also add in widgets from ipywidgets to change the size and shape of the markers in a scatter plot."
   ]
  },
  {
   "cell_type": "code",
   "execution_count": null,
   "metadata": {},
   "outputs": [],
   "source": [
    "import hvplot.pandas, panel, ipywidgets \n",
    "from bokeh.sampledata.autompg import autompg\n",
    "panel.extension()"
   ]
  },
  {
   "cell_type": "markdown",
   "metadata": {},
   "source": [
    "`autompg` is a sample dataframe included with the Bokeh package.  We can sample a few leading rows to see what the columns are."
   ]
  },
  {
   "cell_type": "code",
   "execution_count": null,
   "metadata": {},
   "outputs": [],
   "source": [
    "autompg.head()"
   ]
  },
  {
   "cell_type": "markdown",
   "metadata": {},
   "source": [
    "## Widgets with Panel and hvPlot\n",
    "\n"
   ]
  },
  {
   "cell_type": "markdown",
   "metadata": {},
   "source": [
    "The `hvplot` accessor enables simple ways to produce plots from the `autompg` dataframe. For instance, we can make a scatter plot using the `mpg` and `hp` features. We'll use the resulting plot as a template to develop a GUI to for exploring the `autompg` dataset."
   ]
  },
  {
   "cell_type": "code",
   "execution_count": null,
   "metadata": {},
   "outputs": [],
   "source": [
    "autompg.hvplot.scatter('mpg', 'hp')"
   ]
  },
  {
   "cell_type": "markdown",
   "metadata": {},
   "source": [
    "First, let's define a few *Panel* widgets to manipulate the preceding plot.  The `Select` widgets `x_col` and `y_col` are drop-down menus to select numerical columns from the `autompg` dataframe for the horizontal and vertical axes of a scatter plot."
   ]
  },
  {
   "cell_type": "code",
   "execution_count": null,
   "metadata": {},
   "outputs": [],
   "source": [
    "# Define common keyword argument 'options' for both Select widgets\n",
    "opts = dict(options=list(autompg.columns.drop(['origin', 'name'])))\n",
    "print(opts)"
   ]
  },
  {
   "cell_type": "code",
   "execution_count": null,
   "metadata": {},
   "outputs": [],
   "source": [
    "# Define the relevant Panel widgets\n",
    "x_col = panel.widgets.Select(value='mpg', name='x', **opts)\n",
    "y_col = panel.widgets.Select(value='hp',  name='y', **opts)"
   ]
  },
  {
   "cell_type": "markdown",
   "metadata": {},
   "source": [
    "## Widgets with ipywidgets"
   ]
  },
  {
   "cell_type": "markdown",
   "metadata": {},
   "source": [
    "Next, let's define some widgets drawn from the *ipywidgets* library.\n",
    "\n",
    "The first one, `color`, is used to choose the color of markers in the scatter plot."
   ]
  },
  {
   "cell_type": "code",
   "execution_count": null,
   "metadata": {},
   "outputs": [],
   "source": [
    "color = ipywidgets.widgets.ColorPicker(\n",
    "          description='Pick a color',\n",
    "          value='blue',\n",
    "         )"
   ]
  },
  {
   "cell_type": "markdown",
   "metadata": {},
   "source": [
    "Next, the object `size` is instantiated as an `ipywidgets.IntSlider` for adjusting the marker size in the scatter plot."
   ]
  },
  {
   "cell_type": "code",
   "execution_count": null,
   "metadata": {},
   "outputs": [],
   "source": [
    "size = ipywidgets.IntSlider(\n",
    "         value=7,\n",
    "         min=0,\n",
    "         max=50,\n",
    "         step=1,\n",
    "         description='Point size:',\n",
    "         disabled=False,\n",
    "         orientation='horizontal',\n",
    "        )"
   ]
  },
  {
   "cell_type": "markdown",
   "metadata": {},
   "source": [
    "We can also create an object `marker` using `ipywidgets.Dropdown` to provide options for choosing different marker symbols in the scatter plot."
   ]
  },
  {
   "cell_type": "code",
   "execution_count": null,
   "metadata": {},
   "outputs": [],
   "source": [
    "marker = ipywidgets.Dropdown(\n",
    "           options=list('*d^v><x'),\n",
    "           value='*',\n",
    "           description='Symbol:',\n",
    "           disabled=False,\n",
    "          )"
   ]
  },
  {
   "cell_type": "markdown",
   "metadata": {},
   "source": [
    "## Linking interactions in each ecosystem\n",
    "\n",
    "We can now connect *all* the widget objects instantiated so far. In particular, the decorated function `autompg_plot` combines the *Panel* `Select` objects `x_col` and `y_col` together with the *ipywidgets* objects `color`, `size`, and `marker` to  construct an explicit call to `autompg.hvplot.scatter`.\n",
    "\n",
    "For context, the `panel.depends` decorator wrapping `autompg_plot` produces a function that is *revaluated* whenever any of the specified widget objects (`x_col`, `y_col`, `color`, `size`, and `marker`) are changed by the user.  As such, the resulting scatter plot is updated too."
   ]
  },
  {
   "cell_type": "code",
   "execution_count": null,
   "metadata": {},
   "outputs": [],
   "source": [
    "@panel.depends(x_col, y_col, color, size, marker)\n",
    "def autompg_plot(x_col, y_col, color, size, marker):\n",
    "    return autompg.hvplot.scatter(x_col, y_col, c=color, size=size, marker=marker)"
   ]
  },
  {
   "cell_type": "markdown",
   "metadata": {},
   "source": [
    "Finally, we can create a useful Panel app layout for the application.  With the objects `panel.Row` and `panel.Column` nested as below, we will have a single row comprising of a column of widgets on the left and the associated scatter plot on the right. More specifically, from top to bottom, the left-hand column has MarkDown text at the top, two drop-down menus beneath, then a color picker, a slider, and finally another drop-down menu at the bottom. Notice again that the Panel application combines widgets from *both* the ipywidgets and the Panel ecosystems."
   ]
  },
  {
   "cell_type": "code",
   "execution_count": null,
   "metadata": {},
   "outputs": [],
   "source": [
    "panel.Row(\n",
    "    panel.Column('## MPG Explorer', x_col, y_col, color, size, marker),\n",
    "    autompg_plot)"
   ]
  },
  {
   "cell_type": "markdown",
   "metadata": {},
   "source": [
    "## Conclusion\n",
    "\n",
    "When building a Panel app or dashboard, embedding widgets from ipywidgets is just as simple as using Panel widgets only! This greatly broadens the number of widgets and different styling options available."
   ]
  }
 ],
 "metadata": {
  "kernelspec": {
   "display_name": "Python 3",
   "language": "python",
   "name": "python3"
  },
  "language_info": {
   "codemirror_mode": {
    "name": "ipython",
    "version": 3
   },
   "file_extension": ".py",
   "mimetype": "text/x-python",
   "name": "python",
   "nbconvert_exporter": "python",
   "pygments_lexer": "ipython3",
   "version": "3.9.0"
  }
 },
 "nbformat": 4,
 "nbformat_minor": 4
}
